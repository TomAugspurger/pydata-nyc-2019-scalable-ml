{
 "cells": [
  {
   "cell_type": "code",
   "execution_count": 2,
   "metadata": {},
   "outputs": [],
   "source": [
    "cp /tmp/dask_config.yaml /home/jovyan/.config/dask/dask_config.yaml"
   ]
  },
  {
   "cell_type": "code",
   "execution_count": 1,
   "metadata": {},
   "outputs": [],
   "source": [
    "from dask.distributed import Client\n",
    "from dask_kubernetes import KubeCluster\n",
    "import dask.dataframe as dd\n",
    "from distributed import wait\n",
    "import gcsfs\n",
    "import toolz\n",
    "import pandas as pd"
   ]
  },
  {
   "cell_type": "code",
   "execution_count": 2,
   "metadata": {},
   "outputs": [
    {
     "name": "stderr",
     "output_type": "stream",
     "text": [
      "distributed.scheduler - INFO - Clear task state\n",
      "/opt/conda/lib/python3.7/site-packages/distributed/dashboard/core.py:72: UserWarning: \n",
      "Port 8787 is already in use. \n",
      "Perhaps you already have a cluster running?\n",
      "Hosting the diagnostics dashboard on a random port instead.\n",
      "  warnings.warn(\"\\n\" + msg)\n",
      "distributed.scheduler - INFO -   Scheduler at:   tcp://10.20.0.131:44829\n",
      "distributed.scheduler - INFO -   dashboard at:                    :37809\n"
     ]
    },
    {
     "data": {
      "application/vnd.jupyter.widget-view+json": {
       "model_id": "16505c8b549c47afbbd06b539dcd0927",
       "version_major": 2,
       "version_minor": 0
      },
      "text/plain": [
       "VBox(children=(HTML(value='<h2>KubeCluster</h2>'), HBox(children=(HTML(value='\\n<div>\\n  <style scoped>\\n    .…"
      ]
     },
     "metadata": {},
     "output_type": "display_data"
    }
   ],
   "source": [
    "cluster = KubeCluster(n_workers=100)\n",
    "cluster"
   ]
  },
  {
   "cell_type": "code",
   "execution_count": 3,
   "metadata": {},
   "outputs": [
    {
     "name": "stderr",
     "output_type": "stream",
     "text": [
      "distributed.scheduler - INFO - Receive client connection: Client-485d77d4-fa5d-11e9-8043-56d0ba869408\n",
      "distributed.core - INFO - Starting established connection\n",
      "distributed.scheduler - INFO - Register tcp://10.20.144.22:44787\n",
      "distributed.scheduler - INFO - Starting worker compute stream, tcp://10.20.144.22:44787\n",
      "distributed.core - INFO - Starting established connection\n",
      "distributed.scheduler - INFO - Register tcp://10.20.151.22:33057\n",
      "distributed.scheduler - INFO - Starting worker compute stream, tcp://10.20.151.22:33057\n",
      "distributed.core - INFO - Starting established connection\n",
      "distributed.scheduler - INFO - Register tcp://10.20.121.22:35141\n",
      "distributed.scheduler - INFO - Starting worker compute stream, tcp://10.20.121.22:35141\n",
      "distributed.core - INFO - Starting established connection\n",
      "distributed.scheduler - INFO - Register tcp://10.20.147.22:41751\n",
      "distributed.scheduler - INFO - Register tcp://10.20.127.23:43699\n",
      "distributed.scheduler - INFO - Starting worker compute stream, tcp://10.20.147.22:41751\n",
      "distributed.core - INFO - Starting established connection\n",
      "distributed.scheduler - INFO - Starting worker compute stream, tcp://10.20.127.23:43699\n",
      "distributed.core - INFO - Starting established connection\n",
      "distributed.scheduler - INFO - Register tcp://10.20.136.22:42579\n",
      "distributed.scheduler - INFO - Starting worker compute stream, tcp://10.20.136.22:42579\n",
      "distributed.core - INFO - Starting established connection\n",
      "distributed.scheduler - INFO - Register tcp://10.20.134.22:41321\n",
      "distributed.scheduler - INFO - Starting worker compute stream, tcp://10.20.134.22:41321\n",
      "distributed.core - INFO - Starting established connection\n",
      "distributed.scheduler - INFO - Register tcp://10.20.148.22:36689\n",
      "distributed.scheduler - INFO - Register tcp://10.20.129.22:46123\n",
      "distributed.scheduler - INFO - Starting worker compute stream, tcp://10.20.148.22:36689\n",
      "distributed.core - INFO - Starting established connection\n",
      "distributed.scheduler - INFO - Starting worker compute stream, tcp://10.20.129.22:46123\n",
      "distributed.core - INFO - Starting established connection\n",
      "distributed.scheduler - INFO - Register tcp://10.20.142.22:41363\n",
      "distributed.scheduler - INFO - Starting worker compute stream, tcp://10.20.142.22:41363\n",
      "distributed.core - INFO - Starting established connection\n",
      "distributed.scheduler - INFO - Register tcp://10.20.130.22:35555\n",
      "distributed.scheduler - INFO - Starting worker compute stream, tcp://10.20.130.22:35555\n",
      "distributed.core - INFO - Starting established connection\n",
      "distributed.scheduler - INFO - Register tcp://10.20.123.22:40579\n",
      "distributed.scheduler - INFO - Starting worker compute stream, tcp://10.20.123.22:40579\n",
      "distributed.core - INFO - Starting established connection\n",
      "distributed.scheduler - INFO - Register tcp://10.20.138.21:42313\n",
      "distributed.scheduler - INFO - Starting worker compute stream, tcp://10.20.138.21:42313\n",
      "distributed.core - INFO - Starting established connection\n",
      "distributed.scheduler - INFO - Register tcp://10.20.142.23:36241\n",
      "distributed.scheduler - INFO - Starting worker compute stream, tcp://10.20.142.23:36241\n",
      "distributed.core - INFO - Starting established connection\n",
      "distributed.scheduler - INFO - Register tcp://10.20.135.22:36027\n",
      "distributed.scheduler - INFO - Starting worker compute stream, tcp://10.20.135.22:36027\n",
      "distributed.core - INFO - Starting established connection\n",
      "distributed.scheduler - INFO - Register tcp://10.20.143.22:35887\n",
      "distributed.scheduler - INFO - Starting worker compute stream, tcp://10.20.143.22:35887\n",
      "distributed.core - INFO - Starting established connection\n",
      "distributed.scheduler - INFO - Register tcp://10.20.137.22:41203\n",
      "distributed.scheduler - INFO - Starting worker compute stream, tcp://10.20.137.22:41203\n",
      "distributed.core - INFO - Starting established connection\n",
      "distributed.scheduler - INFO - Register tcp://10.20.128.22:39491\n",
      "distributed.scheduler - INFO - Starting worker compute stream, tcp://10.20.128.22:39491\n",
      "distributed.core - INFO - Starting established connection\n",
      "distributed.scheduler - INFO - Register tcp://10.20.125.22:33389\n",
      "distributed.scheduler - INFO - Starting worker compute stream, tcp://10.20.125.22:33389\n",
      "distributed.core - INFO - Starting established connection\n",
      "distributed.scheduler - INFO - Register tcp://10.20.133.22:44715\n",
      "distributed.scheduler - INFO - Register tcp://10.20.122.22:33335\n",
      "distributed.scheduler - INFO - Starting worker compute stream, tcp://10.20.133.22:44715\n",
      "distributed.core - INFO - Starting established connection\n",
      "distributed.scheduler - INFO - Starting worker compute stream, tcp://10.20.122.22:33335\n",
      "distributed.core - INFO - Starting established connection\n",
      "distributed.scheduler - INFO - Register tcp://10.20.153.22:45071\n",
      "distributed.scheduler - INFO - Starting worker compute stream, tcp://10.20.153.22:45071\n",
      "distributed.core - INFO - Starting established connection\n",
      "distributed.scheduler - INFO - Register tcp://10.20.151.23:42677\n",
      "distributed.scheduler - INFO - Starting worker compute stream, tcp://10.20.151.23:42677\n",
      "distributed.core - INFO - Starting established connection\n",
      "distributed.scheduler - INFO - Register tcp://10.20.129.23:41811\n",
      "distributed.scheduler - INFO - Starting worker compute stream, tcp://10.20.129.23:41811\n",
      "distributed.core - INFO - Starting established connection\n",
      "distributed.scheduler - INFO - Register tcp://10.20.120.22:41973\n",
      "distributed.scheduler - INFO - Starting worker compute stream, tcp://10.20.120.22:41973\n",
      "distributed.core - INFO - Starting established connection\n",
      "distributed.scheduler - INFO - Register tcp://10.20.127.24:35789\n",
      "distributed.scheduler - INFO - Register tcp://10.20.144.23:37113\n",
      "distributed.scheduler - INFO - Starting worker compute stream, tcp://10.20.127.24:35789\n",
      "distributed.core - INFO - Starting established connection\n",
      "distributed.scheduler - INFO - Starting worker compute stream, tcp://10.20.144.23:37113\n",
      "distributed.core - INFO - Starting established connection\n",
      "distributed.scheduler - INFO - Register tcp://10.20.156.22:33589\n",
      "distributed.scheduler - INFO - Starting worker compute stream, tcp://10.20.156.22:33589\n",
      "distributed.core - INFO - Starting established connection\n",
      "distributed.scheduler - INFO - Register tcp://10.20.123.23:45649\n",
      "distributed.scheduler - INFO - Starting worker compute stream, tcp://10.20.123.23:45649\n",
      "distributed.core - INFO - Starting established connection\n",
      "distributed.scheduler - INFO - Register tcp://10.20.126.22:33501\n",
      "distributed.scheduler - INFO - Starting worker compute stream, tcp://10.20.126.22:33501\n",
      "distributed.core - INFO - Starting established connection\n",
      "distributed.scheduler - INFO - Register tcp://10.20.136.23:36531\n",
      "distributed.scheduler - INFO - Starting worker compute stream, tcp://10.20.136.23:36531\n",
      "distributed.core - INFO - Starting established connection\n",
      "distributed.scheduler - INFO - Register tcp://10.20.135.23:45819\n",
      "distributed.scheduler - INFO - Starting worker compute stream, tcp://10.20.135.23:45819\n",
      "distributed.core - INFO - Starting established connection\n",
      "distributed.scheduler - INFO - Register tcp://10.20.151.24:42719\n",
      "distributed.scheduler - INFO - Starting worker compute stream, tcp://10.20.151.24:42719\n",
      "distributed.core - INFO - Starting established connection\n",
      "distributed.scheduler - INFO - Register tcp://10.20.150.22:45777\n",
      "distributed.scheduler - INFO - Starting worker compute stream, tcp://10.20.150.22:45777\n",
      "distributed.core - INFO - Starting established connection\n",
      "distributed.scheduler - INFO - Register tcp://10.20.147.23:33391\n",
      "distributed.scheduler - INFO - Starting worker compute stream, tcp://10.20.147.23:33391\n",
      "distributed.core - INFO - Starting established connection\n",
      "distributed.scheduler - INFO - Register tcp://10.20.139.22:36341\n",
      "distributed.scheduler - INFO - Starting worker compute stream, tcp://10.20.139.22:36341\n",
      "distributed.core - INFO - Starting established connection\n",
      "distributed.scheduler - INFO - Register tcp://10.20.143.23:45187\n",
      "distributed.scheduler - INFO - Register tcp://10.20.133.23:35741\n",
      "distributed.scheduler - INFO - Starting worker compute stream, tcp://10.20.143.23:45187\n",
      "distributed.core - INFO - Starting established connection\n",
      "distributed.scheduler - INFO - Starting worker compute stream, tcp://10.20.133.23:35741\n",
      "distributed.core - INFO - Starting established connection\n",
      "distributed.scheduler - INFO - Register tcp://10.20.128.23:41089\n",
      "distributed.scheduler - INFO - Starting worker compute stream, tcp://10.20.128.23:41089\n",
      "distributed.core - INFO - Starting established connection\n",
      "distributed.scheduler - INFO - Register tcp://10.20.138.22:41349\n",
      "distributed.scheduler - INFO - Starting worker compute stream, tcp://10.20.138.22:41349\n",
      "distributed.core - INFO - Starting established connection\n",
      "distributed.scheduler - INFO - Register tcp://10.20.140.22:33985\n",
      "distributed.scheduler - INFO - Register tcp://10.20.144.24:35093\n",
      "distributed.scheduler - INFO - Starting worker compute stream, tcp://10.20.140.22:33985\n",
      "distributed.core - INFO - Starting established connection\n",
      "distributed.scheduler - INFO - Starting worker compute stream, tcp://10.20.144.24:35093\n",
      "distributed.core - INFO - Starting established connection\n",
      "distributed.scheduler - INFO - Register tcp://10.20.134.23:40337\n",
      "distributed.scheduler - INFO - Starting worker compute stream, tcp://10.20.134.23:40337\n",
      "distributed.core - INFO - Starting established connection\n",
      "distributed.scheduler - INFO - Register tcp://10.20.156.23:37445\n",
      "distributed.scheduler - INFO - Register tcp://10.20.130.23:36863\n",
      "distributed.scheduler - INFO - Starting worker compute stream, tcp://10.20.156.23:37445\n",
      "distributed.core - INFO - Starting established connection\n",
      "distributed.scheduler - INFO - Starting worker compute stream, tcp://10.20.130.23:36863\n",
      "distributed.core - INFO - Starting established connection\n",
      "distributed.scheduler - INFO - Register tcp://10.20.126.23:39367\n",
      "distributed.scheduler - INFO - Starting worker compute stream, tcp://10.20.126.23:39367\n",
      "distributed.core - INFO - Starting established connection\n",
      "distributed.scheduler - INFO - Register tcp://10.20.153.23:32919\n",
      "distributed.scheduler - INFO - Starting worker compute stream, tcp://10.20.153.23:32919\n",
      "distributed.core - INFO - Starting established connection\n",
      "distributed.scheduler - INFO - Register tcp://10.20.129.24:32869\n",
      "distributed.scheduler - INFO - Starting worker compute stream, tcp://10.20.129.24:32869\n",
      "distributed.core - INFO - Starting established connection\n",
      "distributed.scheduler - INFO - Register tcp://10.20.124.23:35623\n",
      "distributed.scheduler - INFO - Starting worker compute stream, tcp://10.20.124.23:35623\n",
      "distributed.core - INFO - Starting established connection\n",
      "distributed.scheduler - INFO - Register tcp://10.20.136.24:37497\n",
      "distributed.scheduler - INFO - Starting worker compute stream, tcp://10.20.136.24:37497\n",
      "distributed.core - INFO - Starting established connection\n",
      "distributed.scheduler - INFO - Register tcp://10.20.149.22:42273\n",
      "distributed.scheduler - INFO - Register tcp://10.20.130.24:42479\n",
      "distributed.scheduler - INFO - Starting worker compute stream, tcp://10.20.149.22:42273\n",
      "distributed.core - INFO - Starting established connection\n",
      "distributed.scheduler - INFO - Starting worker compute stream, tcp://10.20.130.24:42479\n",
      "distributed.core - INFO - Starting established connection\n",
      "distributed.scheduler - INFO - Register tcp://10.20.142.24:43609\n",
      "distributed.scheduler - INFO - Register tcp://10.20.123.24:37805\n",
      "distributed.scheduler - INFO - Register tcp://10.20.135.24:43773\n",
      "distributed.scheduler - INFO - Register tcp://10.20.121.23:38813\n",
      "distributed.scheduler - INFO - Starting worker compute stream, tcp://10.20.142.24:43609\n",
      "distributed.core - INFO - Starting established connection\n",
      "distributed.scheduler - INFO - Starting worker compute stream, tcp://10.20.123.24:37805\n",
      "distributed.core - INFO - Starting established connection\n",
      "distributed.scheduler - INFO - Starting worker compute stream, tcp://10.20.135.24:43773\n",
      "distributed.core - INFO - Starting established connection\n",
      "distributed.scheduler - INFO - Starting worker compute stream, tcp://10.20.121.23:38813\n",
      "distributed.core - INFO - Starting established connection\n",
      "distributed.scheduler - INFO - Register tcp://10.20.144.25:39039\n",
      "distributed.scheduler - INFO - Starting worker compute stream, tcp://10.20.144.25:39039\n",
      "distributed.core - INFO - Starting established connection\n",
      "distributed.scheduler - INFO - Register tcp://10.20.139.23:43475\n",
      "distributed.scheduler - INFO - Register tcp://10.20.142.25:33647\n",
      "distributed.scheduler - INFO - Register tcp://10.20.125.23:44213\n",
      "distributed.scheduler - INFO - Starting worker compute stream, tcp://10.20.139.23:43475\n",
      "distributed.core - INFO - Starting established connection\n",
      "distributed.scheduler - INFO - Starting worker compute stream, tcp://10.20.142.25:33647\n",
      "distributed.core - INFO - Starting established connection\n",
      "distributed.scheduler - INFO - Starting worker compute stream, tcp://10.20.125.23:44213\n",
      "distributed.core - INFO - Starting established connection\n",
      "distributed.scheduler - INFO - Register tcp://10.20.128.24:40463\n",
      "distributed.scheduler - INFO - Starting worker compute stream, tcp://10.20.128.24:40463\n",
      "distributed.core - INFO - Starting established connection\n",
      "distributed.scheduler - INFO - Register tcp://10.20.120.23:36467\n",
      "distributed.scheduler - INFO - Starting worker compute stream, tcp://10.20.120.23:36467\n",
      "distributed.core - INFO - Starting established connection\n",
      "distributed.scheduler - INFO - Register tcp://10.20.148.23:41171\n",
      "distributed.scheduler - INFO - Register tcp://10.20.122.23:33365\n",
      "distributed.scheduler - INFO - Starting worker compute stream, tcp://10.20.148.23:41171\n",
      "distributed.core - INFO - Starting established connection\n",
      "distributed.scheduler - INFO - Starting worker compute stream, tcp://10.20.122.23:33365\n",
      "distributed.core - INFO - Starting established connection\n",
      "distributed.scheduler - INFO - Register tcp://10.20.131.22:42197\n",
      "distributed.scheduler - INFO - Starting worker compute stream, tcp://10.20.131.22:42197\n",
      "distributed.core - INFO - Starting established connection\n",
      "distributed.scheduler - INFO - Register tcp://10.20.151.25:35887\n",
      "distributed.scheduler - INFO - Register tcp://10.20.137.23:45201\n",
      "distributed.scheduler - INFO - Starting worker compute stream, tcp://10.20.151.25:35887\n",
      "distributed.core - INFO - Starting established connection\n",
      "distributed.scheduler - INFO - Starting worker compute stream, tcp://10.20.137.23:45201\n",
      "distributed.core - INFO - Starting established connection\n",
      "distributed.scheduler - INFO - Register tcp://10.20.121.24:42309\n",
      "distributed.scheduler - INFO - Starting worker compute stream, tcp://10.20.121.24:42309\n",
      "distributed.core - INFO - Starting established connection\n",
      "distributed.scheduler - INFO - Register tcp://10.20.133.24:34489\n",
      "distributed.scheduler - INFO - Register tcp://10.20.127.25:40969\n",
      "distributed.scheduler - INFO - Starting worker compute stream, tcp://10.20.133.24:34489\n",
      "distributed.core - INFO - Starting established connection\n",
      "distributed.scheduler - INFO - Starting worker compute stream, tcp://10.20.127.25:40969\n",
      "distributed.core - INFO - Starting established connection\n",
      "distributed.scheduler - INFO - Register tcp://10.20.134.24:38925\n",
      "distributed.scheduler - INFO - Starting worker compute stream, tcp://10.20.134.24:38925\n",
      "distributed.core - INFO - Starting established connection\n",
      "distributed.scheduler - INFO - Register tcp://10.20.147.24:34509\n",
      "distributed.scheduler - INFO - Starting worker compute stream, tcp://10.20.147.24:34509\n",
      "distributed.core - INFO - Starting established connection\n",
      "distributed.scheduler - INFO - Register tcp://10.20.130.25:33329\n",
      "distributed.scheduler - INFO - Starting worker compute stream, tcp://10.20.130.25:33329\n",
      "distributed.core - INFO - Starting established connection\n",
      "distributed.scheduler - INFO - Register tcp://10.20.150.23:38601\n",
      "distributed.scheduler - INFO - Starting worker compute stream, tcp://10.20.150.23:38601\n",
      "distributed.core - INFO - Starting established connection\n",
      "distributed.scheduler - INFO - Register tcp://10.20.138.23:43031\n",
      "distributed.scheduler - INFO - Starting worker compute stream, tcp://10.20.138.23:43031\n",
      "distributed.core - INFO - Starting established connection\n",
      "distributed.scheduler - INFO - Register tcp://10.20.124.24:34417\n",
      "distributed.scheduler - INFO - Register tcp://10.20.139.24:41049\n",
      "distributed.scheduler - INFO - Starting worker compute stream, tcp://10.20.124.24:34417\n",
      "distributed.core - INFO - Starting established connection\n",
      "distributed.scheduler - INFO - Starting worker compute stream, tcp://10.20.139.24:41049\n",
      "distributed.core - INFO - Starting established connection\n",
      "distributed.scheduler - INFO - Register tcp://10.20.120.24:33139\n",
      "distributed.scheduler - INFO - Register tcp://10.20.156.24:35551\n",
      "distributed.scheduler - INFO - Starting worker compute stream, tcp://10.20.120.24:33139\n",
      "distributed.core - INFO - Starting established connection\n",
      "distributed.scheduler - INFO - Starting worker compute stream, tcp://10.20.156.24:35551\n",
      "distributed.core - INFO - Starting established connection\n",
      "distributed.scheduler - INFO - Register tcp://10.20.147.25:38573\n",
      "distributed.scheduler - INFO - Starting worker compute stream, tcp://10.20.147.25:38573\n",
      "distributed.core - INFO - Starting established connection\n",
      "distributed.scheduler - INFO - Register tcp://10.20.136.25:39027\n",
      "distributed.scheduler - INFO - Starting worker compute stream, tcp://10.20.136.25:39027\n",
      "distributed.core - INFO - Starting established connection\n",
      "distributed.scheduler - INFO - Register tcp://10.20.135.25:35249\n",
      "distributed.scheduler - INFO - Starting worker compute stream, tcp://10.20.135.25:35249\n",
      "distributed.core - INFO - Starting established connection\n",
      "distributed.scheduler - INFO - Register tcp://10.20.140.23:39625\n",
      "distributed.scheduler - INFO - Starting worker compute stream, tcp://10.20.140.23:39625\n",
      "distributed.core - INFO - Starting established connection\n",
      "distributed.scheduler - INFO - Register tcp://10.20.143.24:39661\n",
      "distributed.scheduler - INFO - Starting worker compute stream, tcp://10.20.143.24:39661\n",
      "distributed.core - INFO - Starting established connection\n",
      "distributed.scheduler - INFO - Register tcp://10.20.120.25:42201\n",
      "distributed.scheduler - INFO - Starting worker compute stream, tcp://10.20.120.25:42201\n",
      "distributed.core - INFO - Starting established connection\n",
      "distributed.scheduler - INFO - Register tcp://10.20.127.26:33619\n",
      "distributed.scheduler - INFO - Starting worker compute stream, tcp://10.20.127.26:33619\n",
      "distributed.core - INFO - Starting established connection\n",
      "distributed.scheduler - INFO - Register tcp://10.20.131.23:38939\n",
      "distributed.scheduler - INFO - Starting worker compute stream, tcp://10.20.131.23:38939\n",
      "distributed.core - INFO - Starting established connection\n",
      "distributed.scheduler - INFO - Register tcp://10.20.149.23:46181\n",
      "distributed.scheduler - INFO - Starting worker compute stream, tcp://10.20.149.23:46181\n",
      "distributed.core - INFO - Starting established connection\n",
      "distributed.scheduler - INFO - Register tcp://10.20.153.24:40677\n",
      "distributed.scheduler - INFO - Starting worker compute stream, tcp://10.20.153.24:40677\n",
      "distributed.core - INFO - Starting established connection\n",
      "distributed.scheduler - INFO - Register tcp://10.20.150.24:38349\n",
      "distributed.scheduler - INFO - Starting worker compute stream, tcp://10.20.150.24:38349\n",
      "distributed.core - INFO - Starting established connection\n",
      "distributed.scheduler - INFO - Register tcp://10.20.126.24:38095\n",
      "distributed.scheduler - INFO - Starting worker compute stream, tcp://10.20.126.24:38095\n",
      "distributed.core - INFO - Starting established connection\n",
      "distributed.scheduler - INFO - Register tcp://10.20.131.24:37903\n",
      "distributed.scheduler - INFO - Starting worker compute stream, tcp://10.20.131.24:37903\n",
      "distributed.core - INFO - Starting established connection\n",
      "distributed.scheduler - INFO - Register tcp://10.20.122.24:37245\n",
      "distributed.scheduler - INFO - Starting worker compute stream, tcp://10.20.122.24:37245\n",
      "distributed.core - INFO - Starting established connection\n",
      "distributed.scheduler - INFO - Register tcp://10.20.143.25:37623\n",
      "distributed.scheduler - INFO - Starting worker compute stream, tcp://10.20.143.25:37623\n",
      "distributed.core - INFO - Starting established connection\n",
      "distributed.scheduler - INFO - Register tcp://10.20.153.25:40079\n",
      "distributed.scheduler - INFO - Starting worker compute stream, tcp://10.20.153.25:40079\n",
      "distributed.core - INFO - Starting established connection\n",
      "distributed.scheduler - INFO - Register tcp://10.20.124.25:35505\n",
      "distributed.scheduler - INFO - Starting worker compute stream, tcp://10.20.124.25:35505\n",
      "distributed.core - INFO - Starting established connection\n",
      "distributed.scheduler - INFO - Register tcp://10.20.150.25:34867\n",
      "distributed.scheduler - INFO - Starting worker compute stream, tcp://10.20.150.25:34867\n",
      "distributed.core - INFO - Starting established connection\n",
      "distributed.scheduler - INFO - Register tcp://10.20.139.25:40481\n",
      "distributed.scheduler - INFO - Starting worker compute stream, tcp://10.20.139.25:40481\n",
      "distributed.core - INFO - Starting established connection\n",
      "distributed.scheduler - INFO - Register tcp://10.20.126.25:39165\n",
      "distributed.scheduler - INFO - Starting worker compute stream, tcp://10.20.126.25:39165\n",
      "distributed.core - INFO - Starting established connection\n",
      "distributed.scheduler - INFO - Register tcp://10.20.126.26:35177\n",
      "distributed.scheduler - INFO - Starting worker compute stream, tcp://10.20.126.26:35177\n",
      "distributed.core - INFO - Starting established connection\n"
     ]
    }
   ],
   "source": [
    "client = Client(cluster)"
   ]
  },
  {
   "cell_type": "code",
   "execution_count": 4,
   "metadata": {},
   "outputs": [],
   "source": [
    "def f(path):\n",
    "    fs = gcsfs.GCSFileSystem(token=\"anon\")\n",
    "    with fs.open(path) as g:\n",
    "        return path, pd.read_csv(g, nrows=5).columns"
   ]
  },
  {
   "cell_type": "code",
   "execution_count": 5,
   "metadata": {},
   "outputs": [],
   "source": [
    "fs = gcsfs.GCSFileSystem(token=\"anon\")\n",
    "futures = client.map(f, fs.ls(\"dask-nyc-taxi/csv/\"))\n",
    "columns = [x.result() for x in futures]"
   ]
  },
  {
   "cell_type": "code",
   "execution_count": 6,
   "metadata": {},
   "outputs": [],
   "source": [
    "grouped = toolz.groupby(lambda x: '-'.join(x[1]), columns)"
   ]
  },
  {
   "cell_type": "code",
   "execution_count": 8,
   "metadata": {},
   "outputs": [],
   "source": [
    "groups = []\n",
    "\n",
    "for x in grouped.values():\n",
    "    groups.append(['gs://' + v[0] for v in x])"
   ]
  },
  {
   "cell_type": "code",
   "execution_count": 9,
   "metadata": {},
   "outputs": [],
   "source": [
    "renamer = {\n",
    "    'VendorID': 'vendor_id',\n",
    "    'tpep_dropoff_datetime': 'dropoff_datetime',\n",
    "    'tpep_pickup_datetime': 'pickup_datetime',\n",
    "    'RateCodeID': 'rate_code',\n",
    "    'RatecodeID': 'rate_code',\n",
    "}\n",
    "keep = [\n",
    "    'vendor_id', 'pickup_datetime', 'dropoff_datetime', 'passenger_count',\n",
    "    'trip_distance', 'pickup_longitude', 'pickup_latitude', 'rate_code',\n",
    "    'dropoff_longitude', 'dropoff_latitude',\n",
    "    'payment_type', 'fare_amount', 'tip_amount',\n",
    "    'tolls_amount', 'total_amount',\n",
    "]\n",
    "\n",
    "cat_cols = ['vendor_id', 'payment_type', 'rate_code']"
   ]
  },
  {
   "cell_type": "code",
   "execution_count": 10,
   "metadata": {},
   "outputs": [],
   "source": [
    "df0 = (\n",
    "    dd.read_csv(groups[0], parse_dates=[' pickup_datetime', ' dropoff_datetime'],\n",
    "                dtype={'rate_code': 'object'})\n",
    "      .rename(columns=lambda x: x.strip())\n",
    ")\n",
    "df0['vendor_id'] = df0.vendor_id.replace({'CMT': 1, 'VTS': 2})\n",
    "payment_types = {\n",
    "    'CRD': 1,\n",
    "    'CSH': 2,\n",
    "    'UNK': 5,\n",
    "    'NOC': 3,\n",
    "    'DIS': 4,\n",
    "}\n",
    "df0['payment_type'] = df0.payment_type.replace(payment_types)\n",
    "\n",
    "df0 = df0[keep].dropna()\n",
    "df0['vendor_id'] = df0['vendor_id'].astype(int)\n",
    "df0['payment_type'] = df0['payment_type'].astype(int)"
   ]
  },
  {
   "cell_type": "code",
   "execution_count": 11,
   "metadata": {},
   "outputs": [],
   "source": [
    "df1 = (\n",
    "    dd.read_csv(groups[1],\n",
    "                parse_dates=['tpep_pickup_datetime', 'tpep_dropoff_datetime'],\n",
    "               dtype={\"RateCodeID\": object,\n",
    "                      \"payment_type\": float})\n",
    "         .rename(columns=renamer)\n",
    ")[keep].dropna()\n",
    "\n",
    "df1['rate_code'] = df1['rate_code'].astype(int)\n",
    "df1['payment_type'] = df1['payment_type'].astype(int)"
   ]
  },
  {
   "cell_type": "code",
   "execution_count": 12,
   "metadata": {},
   "outputs": [],
   "source": [
    "df2 = (\n",
    "    dd.read_csv(groups[2],\n",
    "                parse_dates=['tpep_pickup_datetime', 'tpep_dropoff_datetime'],\n",
    "                dtype={\"RatecodeID\": object,\n",
    "                       \"payment_type\": float})\n",
    "      .rename(columns=renamer)\n",
    ")[keep].dropna()\n",
    "df2['rate_code'] = df2['rate_code'].astype(int)\n",
    "df2['payment_type'] = df2['payment_type'].astype(int)"
   ]
  },
  {
   "cell_type": "code",
   "execution_count": 14,
   "metadata": {},
   "outputs": [],
   "source": [
    "df = dd.concat([df0[keep], df1[keep], df2[keep]])"
   ]
  },
  {
   "cell_type": "code",
   "execution_count": null,
   "metadata": {},
   "outputs": [],
   "source": [
    "df = df.persist()\n",
    "wait(df);"
   ]
  },
  {
   "cell_type": "code",
   "execution_count": null,
   "metadata": {},
   "outputs": [],
   "source": [
    "import pandas as pd\n",
    "\n",
    "vendor_id_dtype = pd.CategoricalDtype(categories=['CMT', 'VTS'])\n",
    "payment_type_dtype = pd.CategoricalDtype(categories=['CRD', 'CSH', 'NOC', 'DIS', 'UNKD'])\n",
    "rate_code_dtype = pd.CategoricalDtype(categories=['standard', 'JFK', 'NWK', 'nassau', 'negotiated', 'group'])"
   ]
  },
  {
   "cell_type": "code",
   "execution_count": null,
   "metadata": {},
   "outputs": [],
   "source": [
    "def f(x, categories):\n",
    "    return pd.Categorical.from_codes(x - 1, categories=categories)\n",
    "\n",
    "df['vendor_id'] = df['vendor_id'].map_partitions(f,\n",
    "                                                   categories=vendor_id_dtype.categories,\n",
    "                                                   meta=('vendor_id', vendor_id_dtype))\n",
    "\n",
    "\n",
    "df['payment_type'] = df['payment_type'].map_partitions(f,\n",
    "                                                         categories=payment_type_dtype.categories,\n",
    "                                                         meta=('payment_type', payment_type_dtype))\n",
    "\n",
    "\n",
    "def g(x, categories):\n",
    "    x2 = x - 1\n",
    "    x2[x2 >= len(categories)] = -1\n",
    "    return pd.Categorical.from_codes(x2, categories=categories)\n",
    "\n",
    "df['rate_code'] = df['rate_code'].map_partitions(g,\n",
    "                                                   categories=rate_code_dtype.categories,\n",
    "                                                   meta=('rate_code', rate_code_dtype))"
   ]
  },
  {
   "cell_type": "code",
   "execution_count": null,
   "metadata": {},
   "outputs": [],
   "source": [
    "df2 = df.dropna().set_index(\"pickup_datetime\").repartition(freq=\"D\")\n",
    "df2 = df2.persist()\n",
    "wait(df2);"
   ]
  },
  {
   "cell_type": "code",
   "execution_count": null,
   "metadata": {},
   "outputs": [],
   "source": [
    "lens = df2.map_partitions(len).compute()"
   ]
  },
  {
   "cell_type": "code",
   "execution_count": null,
   "metadata": {},
   "outputs": [],
   "source": [
    "*divisions, final = df2.divisions"
   ]
  },
  {
   "cell_type": "code",
   "execution_count": null,
   "metadata": {},
   "outputs": [],
   "source": [
    "assert len(divisions) == len(lens)"
   ]
  },
  {
   "cell_type": "code",
   "execution_count": null,
   "metadata": {},
   "outputs": [],
   "source": [
    "new_divisions = [x for x, length in zip(divisions, lens) if length > 0]\n",
    "new_divisions = tuple(new_divisions) + (final,)\n",
    "# new_divisions = list(toolz.sliding_window(2, new_divisions))\n",
    "# new_divisions.append((new_divisions[-1][-1], final))"
   ]
  },
  {
   "cell_type": "code",
   "execution_count": null,
   "metadata": {},
   "outputs": [],
   "source": [
    "nobjs = len(new_divisions)\n",
    "new_delayed = []\n",
    "\n",
    "delayeds = df2.to_delayed()\n",
    "new_delayed = [x for x, length in zip(delayeds, lens) if length > 0]"
   ]
  },
  {
   "cell_type": "code",
   "execution_count": null,
   "metadata": {},
   "outputs": [],
   "source": [
    "df3 = dd.from_delayed(new_delayed, meta=df2._meta, divisions=new_divisions)"
   ]
  },
  {
   "cell_type": "code",
   "execution_count": null,
   "metadata": {},
   "outputs": [],
   "source": [
    "df3 = df3.persist()\n",
    "wait(df3)"
   ]
  },
  {
   "cell_type": "code",
   "execution_count": 28,
   "metadata": {},
   "outputs": [],
   "source": [
    "df3.to_parquet(\"gs://dask-nyc-taxi/yellowtrip.parquet/\", engine=\"fastparquet\", storage_options={\"token\": \"anon\"})"
   ]
  },
  {
   "cell_type": "code",
   "execution_count": 30,
   "metadata": {},
   "outputs": [
    {
     "name": "stderr",
     "output_type": "stream",
     "text": [
      "distributed.utils_perf - WARNING - full garbage collections took 12% CPU time recently (threshold: 10%)\n"
     ]
    }
   ],
   "source": [
    "df3.to_parquet(\"gs://dask-nyc-taxi/nyc-taxi.parquet/\", engine=\"pyarrow\", storage_options={\"token\": \"anon\"})"
   ]
  },
  {
   "cell_type": "code",
   "execution_count": 31,
   "metadata": {},
   "outputs": [
    {
     "data": {
      "text/plain": [
       "vendor_id                  category\n",
       "dropoff_datetime     datetime64[ns]\n",
       "passenger_count               int64\n",
       "trip_distance               float64\n",
       "pickup_longitude            float64\n",
       "pickup_latitude             float64\n",
       "rate_code                  category\n",
       "dropoff_longitude           float64\n",
       "dropoff_latitude            float64\n",
       "payment_type               category\n",
       "fare_amount                 float64\n",
       "tip_amount                  float64\n",
       "tolls_amount                float64\n",
       "total_amount                float64\n",
       "dtype: object"
      ]
     },
     "execution_count": 31,
     "metadata": {},
     "output_type": "execute_result"
    }
   ],
   "source": [
    "dd.read_parquet(\"gs://dask-nyc-taxi/yellowtrip.parquet/\", engine=\"fastparquet\").dtypes"
   ]
  },
  {
   "cell_type": "code",
   "execution_count": 32,
   "metadata": {},
   "outputs": [
    {
     "data": {
      "text/plain": [
       "vendor_id            datetime64[ns]\n",
       "dropoff_datetime     datetime64[ns]\n",
       "passenger_count               int64\n",
       "trip_distance               float64\n",
       "pickup_longitude            float64\n",
       "pickup_latitude             float64\n",
       "rate_code            datetime64[ns]\n",
       "dropoff_longitude           float64\n",
       "dropoff_latitude            float64\n",
       "payment_type         datetime64[ns]\n",
       "fare_amount                 float64\n",
       "tip_amount                  float64\n",
       "tolls_amount                float64\n",
       "total_amount                float64\n",
       "dtype: object"
      ]
     },
     "execution_count": 32,
     "metadata": {},
     "output_type": "execute_result"
    },
    {
     "name": "stderr",
     "output_type": "stream",
     "text": [
      "distributed.utils_perf - WARNING - full garbage collections took 12% CPU time recently (threshold: 10%)\n"
     ]
    }
   ],
   "source": [
    "dd.read_parquet(\"gs://dask-nyc-taxi/nyc-taxi.parquet/\", engine=\"pyarrow\").dtypes"
   ]
  },
  {
   "cell_type": "code",
   "execution_count": null,
   "metadata": {},
   "outputs": [],
   "source": []
  }
 ],
 "metadata": {
  "kernelspec": {
   "display_name": "Python 3",
   "language": "python",
   "name": "python3"
  },
  "language_info": {
   "codemirror_mode": {
    "name": "ipython",
    "version": 3
   },
   "file_extension": ".py",
   "mimetype": "text/x-python",
   "name": "python",
   "nbconvert_exporter": "python",
   "pygments_lexer": "ipython3",
   "version": "3.7.3"
  }
 },
 "nbformat": 4,
 "nbformat_minor": 4
}
